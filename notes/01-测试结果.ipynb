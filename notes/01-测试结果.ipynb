{
 "cells": [
  {
   "cell_type": "code",
   "execution_count": 1,
   "metadata": {},
   "outputs": [],
   "source": [
    "import json"
   ]
  },
  {
   "cell_type": "code",
   "execution_count": 4,
   "metadata": {},
   "outputs": [
    {
     "name": "stdout",
     "output_type": "stream",
     "text": [
      "314205 items found\n"
     ]
    }
   ],
   "source": [
    "with open(\"../output/dict_jianming-2_output.json\", \"r\", encoding=\"utf-8\") as f:\n",
    "    data = json.load(f)\n",
    "print(\"{} items found\".format(len(data)))"
   ]
  },
  {
   "cell_type": "code",
   "execution_count": 10,
   "metadata": {},
   "outputs": [
    {
     "data": {
      "text/plain": [
       "{'Lexicon': 'apply oneself to',\n",
       " 'type': 'Phrase',\n",
       " 'PhoneticSymbols': [],\n",
       " 'ParaPhrases': [{'pos': 'v.',\n",
       "   'english': '',\n",
       "   'chinese': '致力于',\n",
       "   'Sentences': [],\n",
       "   'source': 'jianming-2',\n",
       "   'scene': '',\n",
       "   'category': ''}]}"
      ]
     },
     "execution_count": 10,
     "metadata": {},
     "output_type": "execute_result"
    }
   ],
   "source": [
    "data[10000]"
   ]
  },
  {
   "cell_type": "code",
   "execution_count": 11,
   "metadata": {},
   "outputs": [
    {
     "name": "stdout",
     "output_type": "stream",
     "text": [
      "280540 words found\n"
     ]
    }
   ],
   "source": [
    "words = {i[\"Lexicon\"]: i for i in data if i[\"type\"] == \"Word\"}\n",
    "print(\"{} words found\".format(len(words)))"
   ]
  },
  {
   "cell_type": "code",
   "execution_count": 24,
   "metadata": {},
   "outputs": [
    {
     "data": {
      "text/plain": [
       "{'Lexicon': 'well',\n",
       " 'type': 'Word',\n",
       " 'PhoneticSymbols': [],\n",
       " 'ParaPhrases': [{'pos': 'adv.',\n",
       "   'english': '',\n",
       "   'chinese': '好, 对, 满意地; 友好地, 和蔼地; 彻底地, 完全地',\n",
       "   'Sentences': [{'english': '&nbspDo you eat well at school?',\n",
       "     'chinese': '你在学校吃得好吗?',\n",
       "     'audioUrlUS': '',\n",
       "     'audioUrlUK': '',\n",
       "     'source': 'jianming-2'}],\n",
       "   'source': 'jianming-2',\n",
       "   'scene': '',\n",
       "   'category': ''},\n",
       "  {'pos': 'adv.',\n",
       "   'english': '',\n",
       "   'chinese': '夸奖地, 称赞地',\n",
       "   'Sentences': [{'english': '&nbspThey speak well of him at school.',\n",
       "     'chinese': '学校里的人都称赞他。',\n",
       "     'audioUrlUS': '',\n",
       "     'audioUrlUK': '',\n",
       "     'source': 'jianming-2'}],\n",
       "   'source': 'jianming-2',\n",
       "   'scene': '',\n",
       "   'category': ''},\n",
       "  {'pos': 'adv.',\n",
       "   'english': '',\n",
       "   'chinese': '有理由地, 恰当地',\n",
       "   'Sentences': [{'english': '&nbspYou did well to tell him.',\n",
       "     'chinese': '你告诉了他, 做得对。',\n",
       "     'audioUrlUS': '',\n",
       "     'audioUrlUK': '',\n",
       "     'source': 'jianming-2'}],\n",
       "   'source': 'jianming-2',\n",
       "   'scene': '',\n",
       "   'category': ''},\n",
       "  {'pos': 'adv.',\n",
       "   'english': '',\n",
       "   'chinese': '很, 相当',\n",
       "   'Sentences': [{'english': '&nbspYou may well be right.',\n",
       "     'chinese': '很可能是你对。',\n",
       "     'audioUrlUS': '',\n",
       "     'audioUrlUK': '',\n",
       "     'source': 'jianming-2'}],\n",
       "   'source': 'jianming-2',\n",
       "   'scene': '',\n",
       "   'category': ''},\n",
       "  {'pos': 'adj.',\n",
       "   'english': '',\n",
       "   'chinese': '健康的; 痊愈的',\n",
       "   'Sentences': [{'english': \"&nbspI don't think he is really a well man.\",\n",
       "     'chinese': '我认为他并不是真正健康的人。',\n",
       "     'audioUrlUS': '',\n",
       "     'audioUrlUK': '',\n",
       "     'source': 'jianming-2'}],\n",
       "   'source': 'jianming-2',\n",
       "   'scene': '',\n",
       "   'category': ''},\n",
       "  {'pos': 'adj.',\n",
       "   'english': '',\n",
       "   'chinese': '良好的; 正常的; 令人满意的',\n",
       "   'Sentences': [{'english': '&nbspAll is not well in this country.',\n",
       "     'chinese': '这个国家的情况不能令人满意。',\n",
       "     'audioUrlUS': '',\n",
       "     'audioUrlUK': '',\n",
       "     'source': 'jianming-2'}],\n",
       "   'source': 'jianming-2',\n",
       "   'scene': '',\n",
       "   'category': ''},\n",
       "  {'pos': 'int.',\n",
       "   'english': '',\n",
       "   'chinese': '(用于表示惊讶, 疑虑, 接受等)',\n",
       "   'Sentences': [{'english': '&nbspWell!Look at that amazing sight!',\n",
       "     'chinese': '哦!看那迷人的景色!',\n",
       "     'audioUrlUS': '',\n",
       "     'audioUrlUK': '',\n",
       "     'source': 'jianming-2'}],\n",
       "   'source': 'jianming-2',\n",
       "   'scene': '',\n",
       "   'category': ''},\n",
       "  {'pos': 'n.',\n",
       "   'english': '',\n",
       "   'chinese': '井, 水井',\n",
       "   'Sentences': [{'english': '&nbspThey dug another well in the village.',\n",
       "     'chinese': '他们在村里又挖了一口井。',\n",
       "     'audioUrlUS': '',\n",
       "     'audioUrlUK': '',\n",
       "     'source': 'jianming-2'}],\n",
       "   'source': 'jianming-2',\n",
       "   'scene': '',\n",
       "   'category': ''},\n",
       "  {'pos': 'n.',\n",
       "   'english': '',\n",
       "   'chinese': '泉; 源泉',\n",
       "   'Sentences': [{'english': '&nbspA book is a well of knowledge.',\n",
       "     'chinese': '书是知识的源泉。',\n",
       "     'audioUrlUS': '',\n",
       "     'audioUrlUK': '',\n",
       "     'source': 'jianming-2'}],\n",
       "   'source': 'jianming-2',\n",
       "   'scene': '',\n",
       "   'category': ''},\n",
       "  {'pos': 'vi.',\n",
       "   'english': '',\n",
       "   'chinese': '(液体)涌出; 流出; 涌流',\n",
       "   'Sentences': [{'english': '&nbspOil welled out of the ground.',\n",
       "     'chinese': '原油从地下涌出。',\n",
       "     'audioUrlUS': '',\n",
       "     'audioUrlUK': '',\n",
       "     'source': 'jianming-2'}],\n",
       "   'source': 'jianming-2',\n",
       "   'scene': '',\n",
       "   'category': ''}]}"
      ]
     },
     "execution_count": 24,
     "metadata": {},
     "output_type": "execute_result"
    }
   ],
   "source": [
    "words[\"well\"]"
   ]
  },
  {
   "cell_type": "code",
   "execution_count": 18,
   "metadata": {},
   "outputs": [
    {
     "data": {
      "text/plain": [
       "{'Lexicon': 'modern',\n",
       " 'type': 'Word',\n",
       " 'PhoneticSymbols': [],\n",
       " 'ParaPhrases': [{'pos': 'adj.',\n",
       "   'english': '',\n",
       "   'chinese': '现代的; 近代的',\n",
       "   'Sentences': [{'english': '&nbspHe was steeped in modern history.',\n",
       "     'chinese': '他埋头于近代史的研究。',\n",
       "     'audioUrlUS': '',\n",
       "     'audioUrlUK': '',\n",
       "     'source': 'jianming-2'}],\n",
       "   'source': 'jianming-2',\n",
       "   'scene': '',\n",
       "   'category': ''},\n",
       "  {'pos': 'adj.',\n",
       "   'english': '',\n",
       "   'chinese': '新式的, 时髦的, 最新的',\n",
       "   'Sentences': [{'english': '&nbspHe has modern ideas in spite of his great age.',\n",
       "     'chinese': '尽管他年事很高, 但思想观念却很入时。',\n",
       "     'audioUrlUS': '',\n",
       "     'audioUrlUK': '',\n",
       "     'source': 'jianming-2'},\n",
       "    {'english': '&nbspThe dress is the most modern.',\n",
       "     'chinese': '这件衣服是最时髦的。',\n",
       "     'audioUrlUS': '',\n",
       "     'audioUrlUK': '',\n",
       "     'source': 'jianming-2'}],\n",
       "   'source': 'jianming-2',\n",
       "   'scene': '',\n",
       "   'category': ''},\n",
       "  {'pos': 'adj.',\n",
       "   'english': '',\n",
       "   'chinese': '当代风格的, 现代派的',\n",
       "   'Sentences': [{'english': '&nbspThey went to an exhibition of modern art yesterday.',\n",
       "     'chinese': '昨天, 他们参观了现代美术展览。',\n",
       "     'audioUrlUS': '',\n",
       "     'audioUrlUK': '',\n",
       "     'source': 'jianming-2'}],\n",
       "   'source': 'jianming-2',\n",
       "   'scene': '',\n",
       "   'category': ''}]}"
      ]
     },
     "execution_count": 18,
     "metadata": {},
     "output_type": "execute_result"
    }
   ],
   "source": [
    "words[\"modern\"]"
   ]
  },
  {
   "cell_type": "code",
   "execution_count": 19,
   "metadata": {},
   "outputs": [
    {
     "name": "stdout",
     "output_type": "stream",
     "text": [
      "22334 items found\n"
     ]
    }
   ],
   "source": [
    "with open(\"D:/work/python_work/中心词库/音标-22334-牛津源-2020-8-29.json\", \"r\", encoding=\"utf-8\") as f:\n",
    "    psdata = json.load(f)\n",
    "print(\"{} items found\".format(len(psdata)))"
   ]
  },
  {
   "cell_type": "code",
   "execution_count": 21,
   "metadata": {},
   "outputs": [
    {
     "name": "stdout",
     "output_type": "stream",
     "text": [
      "16717\n"
     ]
    }
   ],
   "source": [
    "num = []\n",
    "for i in psdata:\n",
    "    if i[\"word\"] in words:\n",
    "        num += [i]\n",
    "print(len(num))"
   ]
  },
  {
   "cell_type": "code",
   "execution_count": 23,
   "metadata": {},
   "outputs": [
    {
     "data": {
      "text/plain": [
       "{'Lexicon': 'triathlon',\n",
       " 'type': 'Word',\n",
       " 'PhoneticSymbols': [],\n",
       " 'ParaPhrases': [{'pos': 'n.',\n",
       "   'english': '',\n",
       "   'chinese': '三项全能运动',\n",
       "   'Sentences': [],\n",
       "   'source': 'jianming-2',\n",
       "   'scene': '',\n",
       "   'category': ''}]}"
      ]
     },
     "execution_count": 23,
     "metadata": {},
     "output_type": "execute_result"
    }
   ],
   "source": [
    "words[num[99][\"word\"]]"
   ]
  },
  {
   "cell_type": "code",
   "execution_count": null,
   "metadata": {},
   "outputs": [],
   "source": []
  }
 ],
 "metadata": {
  "kernelspec": {
   "display_name": "py36",
   "language": "python",
   "name": "py36"
  },
  "language_info": {
   "codemirror_mode": {
    "name": "ipython",
    "version": 3
   },
   "file_extension": ".py",
   "mimetype": "text/x-python",
   "name": "python",
   "nbconvert_exporter": "python",
   "pygments_lexer": "ipython3",
   "version": "3.7.6"
  }
 },
 "nbformat": 4,
 "nbformat_minor": 4
}
